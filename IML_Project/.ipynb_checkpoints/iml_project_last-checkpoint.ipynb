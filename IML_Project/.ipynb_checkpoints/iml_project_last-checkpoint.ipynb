{
 "cells": [
  {
   "cell_type": "markdown",
   "metadata": {},
   "source": [
    "## Project: Classification of Heart diseases\n",
    "#### * By: Aru Nurzhaussyn Nazym*"
   ]
  },
  {
   "cell_type": "code",
   "execution_count": 1,
   "metadata": {},
   "outputs": [
    {
     "name": "stderr",
     "output_type": "stream",
     "text": [
      "C:\\MachineVision\\lib\\site-packages\\sklearn\\cross_validation.py:44: DeprecationWarning: This module was deprecated in version 0.18 in favor of the model_selection module into which all the refactored classes and functions are moved. Also note that the interface of the new CV iterators are different from that of this module. This module will be removed in 0.20.\n",
      "  \"This module will be removed in 0.20.\", DeprecationWarning)\n"
     ]
    }
   ],
   "source": [
    "import pandas as pnd\n",
    "import numpy as np\n",
    "from sklearn import preprocessing\n",
    "from sklearn import neighbors, datasets\n",
    "from sklearn import cross_validation\n",
    "from sklearn.linear_model import SGDClassifier\n",
    "from sklearn import svm\n",
    "import operator\n",
    "from sklearn.cross_validation import KFold\n",
    "import itertools\n",
    "import numpy as np\n",
    "import matplotlib.pyplot as plt\n",
    "from sklearn import metrics\n",
    "from sklearn.metrics import confusion_matrix\n",
    "from sklearn import tree\n",
    "import seaborn as sns\n",
    "from IPython.display import Image\n",
    "%matplotlib inline"
   ]
  },
  {
   "cell_type": "code",
   "execution_count": 2,
   "metadata": {},
   "outputs": [
    {
     "data": {
      "text/html": [
       "<div>\n",
       "<style>\n",
       "    .dataframe thead tr:only-child th {\n",
       "        text-align: right;\n",
       "    }\n",
       "\n",
       "    .dataframe thead th {\n",
       "        text-align: left;\n",
       "    }\n",
       "\n",
       "    .dataframe tbody tr th {\n",
       "        vertical-align: top;\n",
       "    }\n",
       "</style>\n",
       "<table border=\"1\" class=\"dataframe\">\n",
       "  <thead>\n",
       "    <tr style=\"text-align: right;\">\n",
       "      <th></th>\n",
       "      <th>age</th>\n",
       "      <th>sex</th>\n",
       "      <th>chest_pain</th>\n",
       "      <th>blood pressure</th>\n",
       "      <th>serum_cholestoral</th>\n",
       "      <th>fasting_blood_sugar</th>\n",
       "      <th>electrocardiographic</th>\n",
       "      <th>max_heart_rate</th>\n",
       "      <th>induced_angina</th>\n",
       "      <th>ST_depression</th>\n",
       "      <th>slope</th>\n",
       "      <th>vessels</th>\n",
       "      <th>thal</th>\n",
       "      <th>diagnosis</th>\n",
       "    </tr>\n",
       "  </thead>\n",
       "  <tbody>\n",
       "    <tr>\n",
       "      <th>0</th>\n",
       "      <td>63.0</td>\n",
       "      <td>1.0</td>\n",
       "      <td>1.0</td>\n",
       "      <td>145.0</td>\n",
       "      <td>233.0</td>\n",
       "      <td>1.0</td>\n",
       "      <td>2.0</td>\n",
       "      <td>150.0</td>\n",
       "      <td>0.0</td>\n",
       "      <td>2.3</td>\n",
       "      <td>3.0</td>\n",
       "      <td>0.0</td>\n",
       "      <td>6.0</td>\n",
       "      <td>0</td>\n",
       "    </tr>\n",
       "    <tr>\n",
       "      <th>1</th>\n",
       "      <td>67.0</td>\n",
       "      <td>1.0</td>\n",
       "      <td>4.0</td>\n",
       "      <td>160.0</td>\n",
       "      <td>286.0</td>\n",
       "      <td>0.0</td>\n",
       "      <td>2.0</td>\n",
       "      <td>108.0</td>\n",
       "      <td>1.0</td>\n",
       "      <td>1.5</td>\n",
       "      <td>2.0</td>\n",
       "      <td>3.0</td>\n",
       "      <td>3.0</td>\n",
       "      <td>2</td>\n",
       "    </tr>\n",
       "    <tr>\n",
       "      <th>2</th>\n",
       "      <td>67.0</td>\n",
       "      <td>1.0</td>\n",
       "      <td>4.0</td>\n",
       "      <td>120.0</td>\n",
       "      <td>229.0</td>\n",
       "      <td>0.0</td>\n",
       "      <td>2.0</td>\n",
       "      <td>129.0</td>\n",
       "      <td>1.0</td>\n",
       "      <td>2.6</td>\n",
       "      <td>2.0</td>\n",
       "      <td>2.0</td>\n",
       "      <td>7.0</td>\n",
       "      <td>1</td>\n",
       "    </tr>\n",
       "    <tr>\n",
       "      <th>3</th>\n",
       "      <td>37.0</td>\n",
       "      <td>1.0</td>\n",
       "      <td>3.0</td>\n",
       "      <td>130.0</td>\n",
       "      <td>250.0</td>\n",
       "      <td>0.0</td>\n",
       "      <td>0.0</td>\n",
       "      <td>187.0</td>\n",
       "      <td>0.0</td>\n",
       "      <td>3.5</td>\n",
       "      <td>3.0</td>\n",
       "      <td>0.0</td>\n",
       "      <td>3.0</td>\n",
       "      <td>0</td>\n",
       "    </tr>\n",
       "    <tr>\n",
       "      <th>4</th>\n",
       "      <td>41.0</td>\n",
       "      <td>0.0</td>\n",
       "      <td>2.0</td>\n",
       "      <td>130.0</td>\n",
       "      <td>204.0</td>\n",
       "      <td>0.0</td>\n",
       "      <td>2.0</td>\n",
       "      <td>172.0</td>\n",
       "      <td>0.0</td>\n",
       "      <td>1.4</td>\n",
       "      <td>1.0</td>\n",
       "      <td>0.0</td>\n",
       "      <td>3.0</td>\n",
       "      <td>0</td>\n",
       "    </tr>\n",
       "  </tbody>\n",
       "</table>\n",
       "</div>"
      ],
      "text/plain": [
       "    age  sex  chest_pain  blood pressure  serum_cholestoral  \\\n",
       "0  63.0  1.0         1.0           145.0              233.0   \n",
       "1  67.0  1.0         4.0           160.0              286.0   \n",
       "2  67.0  1.0         4.0           120.0              229.0   \n",
       "3  37.0  1.0         3.0           130.0              250.0   \n",
       "4  41.0  0.0         2.0           130.0              204.0   \n",
       "\n",
       "   fasting_blood_sugar  electrocardiographic  max_heart_rate  induced_angina  \\\n",
       "0                  1.0                   2.0           150.0             0.0   \n",
       "1                  0.0                   2.0           108.0             1.0   \n",
       "2                  0.0                   2.0           129.0             1.0   \n",
       "3                  0.0                   0.0           187.0             0.0   \n",
       "4                  0.0                   2.0           172.0             0.0   \n",
       "\n",
       "   ST_depression  slope vessels thal  diagnosis  \n",
       "0            2.3    3.0     0.0  6.0          0  \n",
       "1            1.5    2.0     3.0  3.0          2  \n",
       "2            2.6    2.0     2.0  7.0          1  \n",
       "3            3.5    3.0     0.0  3.0          0  \n",
       "4            1.4    1.0     0.0  3.0          0  "
      ]
     },
     "execution_count": 2,
     "metadata": {},
     "output_type": "execute_result"
    }
   ],
   "source": [
    "header_row = ['age','sex','chest_pain','blood pressure','serum_cholestoral','fasting_blood_sugar',\\\n",
    "               'electrocardiographic','max_heart_rate','induced_angina','ST_depression','slope','vessels','thal','diagnosis']\n",
    "\n",
    "heart = pnd.read_csv('data.csv', names=header_row)\n",
    "heart[:5]"
   ]
  },
  {
   "cell_type": "code",
   "execution_count": 3,
   "metadata": {},
   "outputs": [
    {
     "name": "stdout",
     "output_type": "stream",
     "text": [
      "      age  sex  chest_pain  blood pressure  serum_cholestoral  \\\n",
      "0    63.0  1.0         1.0           145.0              233.0   \n",
      "1    67.0  1.0         4.0           160.0              286.0   \n",
      "2    67.0  1.0         4.0           120.0              229.0   \n",
      "3    37.0  1.0         3.0           130.0              250.0   \n",
      "4    41.0  0.0         2.0           130.0              204.0   \n",
      "5    56.0  1.0         2.0           120.0              236.0   \n",
      "6    62.0  0.0         4.0           140.0              268.0   \n",
      "7    57.0  0.0         4.0           120.0              354.0   \n",
      "8    63.0  1.0         4.0           130.0              254.0   \n",
      "9    53.0  1.0         4.0           140.0              203.0   \n",
      "10   57.0  1.0         4.0           140.0              192.0   \n",
      "11   56.0  0.0         2.0           140.0              294.0   \n",
      "12   56.0  1.0         3.0           130.0              256.0   \n",
      "13   44.0  1.0         2.0           120.0              263.0   \n",
      "14   52.0  1.0         3.0           172.0              199.0   \n",
      "15   57.0  1.0         3.0           150.0              168.0   \n",
      "16   48.0  1.0         2.0           110.0              229.0   \n",
      "17   54.0  1.0         4.0           140.0              239.0   \n",
      "18   48.0  0.0         3.0           130.0              275.0   \n",
      "19   49.0  1.0         2.0           130.0              266.0   \n",
      "20   64.0  1.0         1.0           110.0              211.0   \n",
      "21   58.0  0.0         1.0           150.0              283.0   \n",
      "22   58.0  1.0         2.0           120.0              284.0   \n",
      "23   58.0  1.0         3.0           132.0              224.0   \n",
      "24   60.0  1.0         4.0           130.0              206.0   \n",
      "25   50.0  0.0         3.0           120.0              219.0   \n",
      "26   58.0  0.0         3.0           120.0              340.0   \n",
      "27   66.0  0.0         1.0           150.0              226.0   \n",
      "28   43.0  1.0         4.0           150.0              247.0   \n",
      "29   40.0  1.0         4.0           110.0              167.0   \n",
      "..    ...  ...         ...             ...                ...   \n",
      "273  71.0  0.0         4.0           112.0              149.0   \n",
      "274  59.0  1.0         1.0           134.0              204.0   \n",
      "275  64.0  1.0         1.0           170.0              227.0   \n",
      "276  66.0  0.0         3.0           146.0              278.0   \n",
      "277  39.0  0.0         3.0           138.0              220.0   \n",
      "278  57.0  1.0         2.0           154.0              232.0   \n",
      "279  58.0  0.0         4.0           130.0              197.0   \n",
      "280  57.0  1.0         4.0           110.0              335.0   \n",
      "281  47.0  1.0         3.0           130.0              253.0   \n",
      "282  55.0  0.0         4.0           128.0              205.0   \n",
      "283  35.0  1.0         2.0           122.0              192.0   \n",
      "284  61.0  1.0         4.0           148.0              203.0   \n",
      "285  58.0  1.0         4.0           114.0              318.0   \n",
      "286  58.0  0.0         4.0           170.0              225.0   \n",
      "287  58.0  1.0         2.0           125.0              220.0   \n",
      "288  56.0  1.0         2.0           130.0              221.0   \n",
      "289  56.0  1.0         2.0           120.0              240.0   \n",
      "290  67.0  1.0         3.0           152.0              212.0   \n",
      "291  55.0  0.0         2.0           132.0              342.0   \n",
      "292  44.0  1.0         4.0           120.0              169.0   \n",
      "293  63.0  1.0         4.0           140.0              187.0   \n",
      "294  63.0  0.0         4.0           124.0              197.0   \n",
      "295  41.0  1.0         2.0           120.0              157.0   \n",
      "296  59.0  1.0         4.0           164.0              176.0   \n",
      "297  57.0  0.0         4.0           140.0              241.0   \n",
      "298  45.0  1.0         1.0           110.0              264.0   \n",
      "299  68.0  1.0         4.0           144.0              193.0   \n",
      "300  57.0  1.0         4.0           130.0              131.0   \n",
      "301  57.0  0.0         2.0           130.0              236.0   \n",
      "302  38.0  1.0         3.0           138.0              175.0   \n",
      "\n",
      "     fasting_blood_sugar  electrocardiographic  max_heart_rate  \\\n",
      "0                    1.0                   2.0           150.0   \n",
      "1                    0.0                   2.0           108.0   \n",
      "2                    0.0                   2.0           129.0   \n",
      "3                    0.0                   0.0           187.0   \n",
      "4                    0.0                   2.0           172.0   \n",
      "5                    0.0                   0.0           178.0   \n",
      "6                    0.0                   2.0           160.0   \n",
      "7                    0.0                   0.0           163.0   \n",
      "8                    0.0                   2.0           147.0   \n",
      "9                    1.0                   2.0           155.0   \n",
      "10                   0.0                   0.0           148.0   \n",
      "11                   0.0                   2.0           153.0   \n",
      "12                   1.0                   2.0           142.0   \n",
      "13                   0.0                   0.0           173.0   \n",
      "14                   1.0                   0.0           162.0   \n",
      "15                   0.0                   0.0           174.0   \n",
      "16                   0.0                   0.0           168.0   \n",
      "17                   0.0                   0.0           160.0   \n",
      "18                   0.0                   0.0           139.0   \n",
      "19                   0.0                   0.0           171.0   \n",
      "20                   0.0                   2.0           144.0   \n",
      "21                   1.0                   2.0           162.0   \n",
      "22                   0.0                   2.0           160.0   \n",
      "23                   0.0                   2.0           173.0   \n",
      "24                   0.0                   2.0           132.0   \n",
      "25                   0.0                   0.0           158.0   \n",
      "26                   0.0                   0.0           172.0   \n",
      "27                   0.0                   0.0           114.0   \n",
      "28                   0.0                   0.0           171.0   \n",
      "29                   0.0                   2.0           114.0   \n",
      "..                   ...                   ...             ...   \n",
      "273                  0.0                   0.0           125.0   \n",
      "274                  0.0                   0.0           162.0   \n",
      "275                  0.0                   2.0           155.0   \n",
      "276                  0.0                   2.0           152.0   \n",
      "277                  0.0                   0.0           152.0   \n",
      "278                  0.0                   2.0           164.0   \n",
      "279                  0.0                   0.0           131.0   \n",
      "280                  0.0                   0.0           143.0   \n",
      "281                  0.0                   0.0           179.0   \n",
      "282                  0.0                   1.0           130.0   \n",
      "283                  0.0                   0.0           174.0   \n",
      "284                  0.0                   0.0           161.0   \n",
      "285                  0.0                   1.0           140.0   \n",
      "286                  1.0                   2.0           146.0   \n",
      "287                  0.0                   0.0           144.0   \n",
      "288                  0.0                   2.0           163.0   \n",
      "289                  0.0                   0.0           169.0   \n",
      "290                  0.0                   2.0           150.0   \n",
      "291                  0.0                   0.0           166.0   \n",
      "292                  0.0                   0.0           144.0   \n",
      "293                  0.0                   2.0           144.0   \n",
      "294                  0.0                   0.0           136.0   \n",
      "295                  0.0                   0.0           182.0   \n",
      "296                  1.0                   2.0            90.0   \n",
      "297                  0.0                   0.0           123.0   \n",
      "298                  0.0                   0.0           132.0   \n",
      "299                  1.0                   0.0           141.0   \n",
      "300                  0.0                   0.0           115.0   \n",
      "301                  0.0                   2.0           174.0   \n",
      "302                  0.0                   0.0           173.0   \n",
      "\n",
      "     induced_angina  ST_depression  slope vessels thal  diagnosis  \n",
      "0               0.0            2.3    3.0     0.0  6.0          0  \n",
      "1               1.0            1.5    2.0     3.0  3.0          2  \n",
      "2               1.0            2.6    2.0     2.0  7.0          1  \n",
      "3               0.0            3.5    3.0     0.0  3.0          0  \n",
      "4               0.0            1.4    1.0     0.0  3.0          0  \n",
      "5               0.0            0.8    1.0     0.0  3.0          0  \n",
      "6               0.0            3.6    3.0     2.0  3.0          3  \n",
      "7               1.0            0.6    1.0     0.0  3.0          0  \n",
      "8               0.0            1.4    2.0     1.0  7.0          2  \n",
      "9               1.0            3.1    3.0     0.0  7.0          1  \n",
      "10              0.0            0.4    2.0     0.0  6.0          0  \n",
      "11              0.0            1.3    2.0     0.0  3.0          0  \n",
      "12              1.0            0.6    2.0     1.0  6.0          2  \n",
      "13              0.0            0.0    1.0     0.0  7.0          0  \n",
      "14              0.0            0.5    1.0     0.0  7.0          0  \n",
      "15              0.0            1.6    1.0     0.0  3.0          0  \n",
      "16              0.0            1.0    3.0     0.0  7.0          1  \n",
      "17              0.0            1.2    1.0     0.0  3.0          0  \n",
      "18              0.0            0.2    1.0     0.0  3.0          0  \n",
      "19              0.0            0.6    1.0     0.0  3.0          0  \n",
      "20              1.0            1.8    2.0     0.0  3.0          0  \n",
      "21              0.0            1.0    1.0     0.0  3.0          0  \n",
      "22              0.0            1.8    2.0     0.0  3.0          1  \n",
      "23              0.0            3.2    1.0     2.0  7.0          3  \n",
      "24              1.0            2.4    2.0     2.0  7.0          4  \n",
      "25              0.0            1.6    2.0     0.0  3.0          0  \n",
      "26              0.0            0.0    1.0     0.0  3.0          0  \n",
      "27              0.0            2.6    3.0     0.0  3.0          0  \n",
      "28              0.0            1.5    1.0     0.0  3.0          0  \n",
      "29              1.0            2.0    2.0     0.0  7.0          3  \n",
      "..              ...            ...    ...     ...  ...        ...  \n",
      "273             0.0            1.6    2.0     0.0  3.0          0  \n",
      "274             0.0            0.8    1.0     2.0  3.0          1  \n",
      "275             0.0            0.6    2.0     0.0  7.0          0  \n",
      "276             0.0            0.0    2.0     1.0  3.0          0  \n",
      "277             0.0            0.0    2.0     0.0  3.0          0  \n",
      "278             0.0            0.0    1.0     1.0  3.0          1  \n",
      "279             0.0            0.6    2.0     0.0  3.0          0  \n",
      "280             1.0            3.0    2.0     1.0  7.0          2  \n",
      "281             0.0            0.0    1.0     0.0  3.0          0  \n",
      "282             1.0            2.0    2.0     1.0  7.0          3  \n",
      "283             0.0            0.0    1.0     0.0  3.0          0  \n",
      "284             0.0            0.0    1.0     1.0  7.0          2  \n",
      "285             0.0            4.4    3.0     3.0  6.0          4  \n",
      "286             1.0            2.8    2.0     2.0  6.0          2  \n",
      "287             0.0            0.4    2.0       ?  7.0          0  \n",
      "288             0.0            0.0    1.0     0.0  7.0          0  \n",
      "289             0.0            0.0    3.0     0.0  3.0          0  \n",
      "290             0.0            0.8    2.0     0.0  7.0          1  \n",
      "291             0.0            1.2    1.0     0.0  3.0          0  \n",
      "292             1.0            2.8    3.0     0.0  6.0          2  \n",
      "293             1.0            4.0    1.0     2.0  7.0          2  \n",
      "294             1.0            0.0    2.0     0.0  3.0          1  \n",
      "295             0.0            0.0    1.0     0.0  3.0          0  \n",
      "296             0.0            1.0    2.0     2.0  6.0          3  \n",
      "297             1.0            0.2    2.0     0.0  7.0          1  \n",
      "298             0.0            1.2    2.0     0.0  7.0          1  \n",
      "299             0.0            3.4    2.0     2.0  7.0          2  \n",
      "300             1.0            1.2    2.0     1.0  7.0          3  \n",
      "301             0.0            0.0    2.0     1.0  3.0          1  \n",
      "302             0.0            0.0    1.0       ?  3.0          0  \n",
      "\n",
      "[303 rows x 14 columns]\n"
     ]
    }
   ],
   "source": [
    "print(heart)"
   ]
  },
  {
   "cell_type": "code",
   "execution_count": 4,
   "metadata": {},
   "outputs": [
    {
     "name": "stdout",
     "output_type": "stream",
     "text": [
      "sex\n",
      "0.0     97\n",
      "1.0    206\n",
      "Name: age, dtype: int64\n",
      "chest_pain\n",
      "1.0     23\n",
      "2.0     50\n",
      "3.0     86\n",
      "4.0    144\n",
      "Name: age, dtype: int64\n",
      "fasting_blood_sugar\n",
      "0.0    258\n",
      "1.0     45\n",
      "Name: age, dtype: int64\n",
      "electrocardiographic\n",
      "0.0    151\n",
      "1.0      4\n",
      "2.0    148\n",
      "Name: age, dtype: int64\n",
      "induced_angina\n",
      "0.0    204\n",
      "1.0     99\n",
      "Name: age, dtype: int64\n",
      "slope\n",
      "1.0    142\n",
      "2.0    140\n",
      "3.0     21\n",
      "Name: age, dtype: int64\n",
      "vessels\n",
      "0.0    176\n",
      "1.0     65\n",
      "2.0     38\n",
      "3.0     20\n",
      "?        4\n",
      "Name: age, dtype: int64\n",
      "thal\n",
      "3.0    166\n",
      "6.0     18\n",
      "7.0    117\n",
      "?        2\n",
      "Name: age, dtype: int64\n",
      "diagnosis\n",
      "0    164\n",
      "1     55\n",
      "2     36\n",
      "3     35\n",
      "4     13\n",
      "Name: age, dtype: int64\n"
     ]
    }
   ],
   "source": [
    "names_descr = dict()\n",
    "categorical_columns = [\"sex\", \"chest_pain\", \"fasting_blood_sugar\", \"electrocardiographic\", \"induced_angina\", \"slope\", \"vessels\", \\\n",
    "                       \"thal\", \"diagnosis\"]\n",
    "for c in categorical_columns:\n",
    "    print(heart.groupby([c])[\"age\"].count())"
   ]
  },
  {
   "cell_type": "code",
   "execution_count": 5,
   "metadata": {
    "collapsed": true
   },
   "outputs": [],
   "source": [
    "for c in heart.columns[:-1]:\n",
    "    heart[c] = heart[c].apply(lambda x: heart[heart[c]!='?'][c].astype(float).mean() if x == \"?\" else x)\n",
    "    heart[c] = heart[c].astype(float)\n",
    "heart_d = heart[heart[\"diagnosis\"] >= 1 ]"
   ]
  },
  {
   "cell_type": "code",
   "execution_count": 6,
   "metadata": {},
   "outputs": [
    {
     "name": "stdout",
     "output_type": "stream",
     "text": [
      "Minimum age to Maximum age per disease type\n"
     ]
    },
    {
     "data": {
      "text/plain": [
       "diagnosis\n",
       "1    35.0, 70.0\n",
       "2    42.0, 69.0\n",
       "3    39.0, 70.0\n",
       "4    38.0, 77.0\n",
       "Name: age, dtype: object"
      ]
     },
     "execution_count": 6,
     "metadata": {},
     "output_type": "execute_result"
    }
   ],
   "source": [
    "print (\"Minimum age to Maximum age per disease type\")\n",
    "\n",
    "heart_d.groupby([\"diagnosis\", ])[\"age\"].min().astype(str) + ', ' +  heart_d.groupby([\"diagnosis\", ])[\"age\"].max().astype(str)"
   ]
  },
  {
   "cell_type": "code",
   "execution_count": 7,
   "metadata": {},
   "outputs": [
    {
     "name": "stdout",
     "output_type": "stream",
     "text": [
      "Mean age per disease type\n"
     ]
    },
    {
     "data": {
      "text/plain": [
       "diagnosis\n",
       "1    55.381818\n",
       "2    58.027778\n",
       "3    56.000000\n",
       "4    59.692308\n",
       "Name: age, dtype: float64"
      ]
     },
     "execution_count": 7,
     "metadata": {},
     "output_type": "execute_result"
    }
   ],
   "source": [
    "print (\"Mean age per disease type\")\n",
    "heart_d.groupby([\"diagnosis\", ])[\"age\"].mean()"
   ]
  },
  {
   "cell_type": "code",
   "execution_count": 8,
   "metadata": {},
   "outputs": [
    {
     "name": "stdout",
     "output_type": "stream",
     "text": [
      "Count each sex per heart disease type\n"
     ]
    },
    {
     "data": {
      "text/plain": [
       "diagnosis  sex\n",
       "1          0.0     9\n",
       "           1.0    46\n",
       "2          0.0     7\n",
       "           1.0    29\n",
       "3          0.0     7\n",
       "           1.0    28\n",
       "4          0.0     2\n",
       "           1.0    11\n",
       "Name: age, dtype: int64"
      ]
     },
     "execution_count": 8,
     "metadata": {},
     "output_type": "execute_result"
    }
   ],
   "source": [
    "print (\"Count each sex per heart disease type\")\n",
    "heart_d.groupby([\"diagnosis\", \"sex\"])[\"age\"].count()"
   ]
  },
  {
   "cell_type": "code",
   "execution_count": 9,
   "metadata": {},
   "outputs": [
    {
     "name": "stdout",
     "output_type": "stream",
     "text": [
      "Count each chest pain value per heart disease type\n"
     ]
    },
    {
     "data": {
      "text/plain": [
       "diagnosis  chest_pain\n",
       "1          1.0            5\n",
       "           2.0            6\n",
       "           3.0            9\n",
       "           4.0           35\n",
       "2          1.0            1\n",
       "           2.0            1\n",
       "           3.0            4\n",
       "           4.0           30\n",
       "3          2.0            2\n",
       "           3.0            4\n",
       "           4.0           29\n",
       "4          1.0            1\n",
       "           3.0            1\n",
       "           4.0           11\n",
       "Name: age, dtype: int64"
      ]
     },
     "execution_count": 9,
     "metadata": {},
     "output_type": "execute_result"
    }
   ],
   "source": [
    "print (\"Count each chest pain value per heart disease type\")\n",
    "heart_d.groupby([\"diagnosis\", \"chest_pain\"])[\"age\"].count()"
   ]
  },
  {
   "cell_type": "code",
   "execution_count": 10,
   "metadata": {},
   "outputs": [
    {
     "name": "stdout",
     "output_type": "stream",
     "text": [
      "Minimum blood pressure to Maximum  blood pressure per disease type\n"
     ]
    },
    {
     "data": {
      "text/plain": [
       "diagnosis\n",
       "1    108.0, 192.0\n",
       "2    100.0, 180.0\n",
       "3    100.0, 200.0\n",
       "4    112.0, 165.0\n",
       "Name: blood pressure, dtype: object"
      ]
     },
     "execution_count": 10,
     "metadata": {},
     "output_type": "execute_result"
    }
   ],
   "source": [
    "print (\"Minimum blood pressure to Maximum  blood pressure per disease type\")\n",
    "\n",
    "heart_d.groupby([\"diagnosis\"])[\"blood pressure\"].min().astype(str) + ', ' +  heart_d.groupby([\"diagnosis\"])[\"blood pressure\"].max().astype(str)"
   ]
  },
  {
   "cell_type": "code",
   "execution_count": 11,
   "metadata": {},
   "outputs": [
    {
     "name": "stdout",
     "output_type": "stream",
     "text": [
      "Mean blood pressure per disease type\n"
     ]
    },
    {
     "data": {
      "text/plain": [
       "diagnosis\n",
       "1    133.254545\n",
       "2    134.194444\n",
       "3    135.457143\n",
       "4    138.769231\n",
       "Name: blood pressure, dtype: float64"
      ]
     },
     "execution_count": 11,
     "metadata": {},
     "output_type": "execute_result"
    }
   ],
   "source": [
    "print (\"Mean blood pressure per disease type\")\n",
    "heart_d.groupby([\"diagnosis\", ])[\"blood pressure\"].mean()"
   ]
  },
  {
   "cell_type": "code",
   "execution_count": 12,
   "metadata": {},
   "outputs": [
    {
     "name": "stdout",
     "output_type": "stream",
     "text": [
      "Minimum serum_cholestoral to Maximum serum_cholestoral per disease type\n"
     ]
    },
    {
     "data": {
      "text/plain": [
       "diagnosis\n",
       "1    149.0, 335.0\n",
       "2    169.0, 409.0\n",
       "3    131.0, 353.0\n",
       "4    166.0, 407.0\n",
       "Name: serum_cholestoral, dtype: object"
      ]
     },
     "execution_count": 12,
     "metadata": {},
     "output_type": "execute_result"
    }
   ],
   "source": [
    "print (\"Minimum serum_cholestoral to Maximum serum_cholestoral per disease type\")\n",
    "\n",
    "heart_d.groupby([\"diagnosis\"])[\"serum_cholestoral\"].min().astype(str) + ', ' +  heart_d.groupby([\"diagnosis\"])[\"serum_cholestoral\"].max().astype(str)"
   ]
  },
  {
   "cell_type": "code",
   "execution_count": 13,
   "metadata": {},
   "outputs": [
    {
     "name": "stdout",
     "output_type": "stream",
     "text": [
      "Mean serum_cholestoral per disease type\n"
     ]
    },
    {
     "data": {
      "text/plain": [
       "diagnosis\n",
       "1    249.109091\n",
       "2    259.277778\n",
       "3    246.457143\n",
       "4    253.384615\n",
       "Name: serum_cholestoral, dtype: float64"
      ]
     },
     "execution_count": 13,
     "metadata": {},
     "output_type": "execute_result"
    }
   ],
   "source": [
    "print (\"Mean serum_cholestoral per disease type\")\n",
    "heart_d.groupby([\"diagnosis\", ])[\"serum_cholestoral\"].mean()"
   ]
  },
  {
   "cell_type": "code",
   "execution_count": 14,
   "metadata": {},
   "outputs": [
    {
     "name": "stdout",
     "output_type": "stream",
     "text": [
      "Count each fasting_blood_sugar per heart disease type\n"
     ]
    },
    {
     "data": {
      "text/plain": [
       "diagnosis  fasting_blood_sugar\n",
       "1          0.0                    51\n",
       "           1.0                     4\n",
       "2          0.0                    27\n",
       "           1.0                     9\n",
       "3          0.0                    27\n",
       "           1.0                     8\n",
       "4          0.0                    12\n",
       "           1.0                     1\n",
       "Name: age, dtype: int64"
      ]
     },
     "execution_count": 14,
     "metadata": {},
     "output_type": "execute_result"
    }
   ],
   "source": [
    "print (\"Count each fasting_blood_sugar per heart disease type\")\n",
    "heart_d.groupby([\"diagnosis\", \"fasting_blood_sugar\"])[\"age\"].count()"
   ]
  },
  {
   "cell_type": "code",
   "execution_count": 15,
   "metadata": {},
   "outputs": [
    {
     "name": "stdout",
     "output_type": "stream",
     "text": [
      "Count each electrocardiographic per heart disease type\n"
     ]
    },
    {
     "data": {
      "text/plain": [
       "diagnosis  electrocardiographic\n",
       "1          0.0                     23\n",
       "           2.0                     32\n",
       "2          0.0                     19\n",
       "           1.0                      1\n",
       "           2.0                     16\n",
       "3          0.0                     12\n",
       "           1.0                      1\n",
       "           2.0                     22\n",
       "4          0.0                      2\n",
       "           1.0                      1\n",
       "           2.0                     10\n",
       "Name: age, dtype: int64"
      ]
     },
     "execution_count": 15,
     "metadata": {},
     "output_type": "execute_result"
    }
   ],
   "source": [
    "print (\"Count each electrocardiographic per heart disease type\")\n",
    "heart_d.groupby([\"diagnosis\", \"electrocardiographic\"])[\"age\"].count()"
   ]
  },
  {
   "cell_type": "code",
   "execution_count": 16,
   "metadata": {},
   "outputs": [
    {
     "name": "stdout",
     "output_type": "stream",
     "text": [
      "Minimum max_heart_rate to Maximum max_heart_rate per disease type\n"
     ]
    },
    {
     "data": {
      "text/plain": [
       "diagnosis\n",
       "1     88.0, 195.0\n",
       "2     71.0, 170.0\n",
       "3     90.0, 173.0\n",
       "4    114.0, 182.0\n",
       "Name: max_heart_rate, dtype: object"
      ]
     },
     "execution_count": 16,
     "metadata": {},
     "output_type": "execute_result"
    }
   ],
   "source": [
    "print (\"Minimum max_heart_rate to Maximum max_heart_rate per disease type\")\n",
    "\n",
    "heart_d.groupby([\"diagnosis\"])[\"max_heart_rate\"].min().astype(str) + ', ' +  heart_d.groupby([\"diagnosis\"])[\"max_heart_rate\"].max().astype(str)"
   ]
  },
  {
   "cell_type": "code",
   "execution_count": 17,
   "metadata": {},
   "outputs": [
    {
     "name": "stdout",
     "output_type": "stream",
     "text": [
      "Mean max_heart_rate per disease type\n"
     ]
    },
    {
     "data": {
      "text/plain": [
       "diagnosis\n",
       "1    145.927273\n",
       "2    135.583333\n",
       "3    132.057143\n",
       "4    140.615385\n",
       "Name: max_heart_rate, dtype: float64"
      ]
     },
     "execution_count": 17,
     "metadata": {},
     "output_type": "execute_result"
    }
   ],
   "source": [
    "print (\"Mean max_heart_rate per disease type\")\n",
    "heart_d.groupby([\"diagnosis\", ])[\"max_heart_rate\"].mean()"
   ]
  },
  {
   "cell_type": "code",
   "execution_count": 18,
   "metadata": {},
   "outputs": [
    {
     "name": "stdout",
     "output_type": "stream",
     "text": [
      "Count  induced_angina per heart disease type\n"
     ]
    },
    {
     "data": {
      "text/plain": [
       "diagnosis  induced_angina\n",
       "1          0.0               30\n",
       "           1.0               25\n",
       "2          0.0               14\n",
       "           1.0               22\n",
       "3          0.0               12\n",
       "           1.0               23\n",
       "4          0.0                7\n",
       "           1.0                6\n",
       "Name: age, dtype: int64"
      ]
     },
     "execution_count": 18,
     "metadata": {},
     "output_type": "execute_result"
    }
   ],
   "source": [
    "print (\"Count  induced_angina per heart disease type\")\n",
    "heart_d.groupby([\"diagnosis\", \"induced_angina\"])[\"age\"].count()"
   ]
  },
  {
   "cell_type": "code",
   "execution_count": 19,
   "metadata": {},
   "outputs": [
    {
     "name": "stdout",
     "output_type": "stream",
     "text": [
      "Count  mean ST_depression per heart disease type\n"
     ]
    },
    {
     "data": {
      "text/plain": [
       "diagnosis\n",
       "1    1.005455\n",
       "2    1.780556\n",
       "3    1.962857\n",
       "4    2.361538\n",
       "Name: ST_depression, dtype: float64"
      ]
     },
     "execution_count": 19,
     "metadata": {},
     "output_type": "execute_result"
    }
   ],
   "source": [
    "print (\"Count  mean ST_depression per heart disease type\")\n",
    "heart_d.groupby([\"diagnosis\"])[\"ST_depression\"].mean()"
   ]
  },
  {
   "cell_type": "code",
   "execution_count": 20,
   "metadata": {},
   "outputs": [
    {
     "name": "stdout",
     "output_type": "stream",
     "text": [
      "Count slope per heart disease type\n"
     ]
    },
    {
     "data": {
      "text/plain": [
       "diagnosis  slope\n",
       "1          1.0      22\n",
       "           2.0      31\n",
       "           3.0       2\n",
       "2          1.0       7\n",
       "           2.0      26\n",
       "           3.0       3\n",
       "3          1.0       6\n",
       "           2.0      24\n",
       "           3.0       5\n",
       "4          1.0       1\n",
       "           2.0      10\n",
       "           3.0       2\n",
       "Name: age, dtype: int64"
      ]
     },
     "execution_count": 20,
     "metadata": {},
     "output_type": "execute_result"
    }
   ],
   "source": [
    "print (\"Count slope per heart disease type\")\n",
    "heart_d.groupby([\"diagnosis\", \"slope\"])[\"age\"].count()"
   ]
  },
  {
   "cell_type": "code",
   "execution_count": 21,
   "metadata": {},
   "outputs": [
    {
     "name": "stdout",
     "output_type": "stream",
     "text": [
      "Count  mean vessels per heart disease type\n"
     ]
    },
    {
     "data": {
      "text/plain": [
       "diagnosis\n",
       "1    0.739495\n",
       "2    1.222222\n",
       "3    1.457143\n",
       "4    1.692308\n",
       "Name: vessels, dtype: float64"
      ]
     },
     "execution_count": 21,
     "metadata": {},
     "output_type": "execute_result"
    }
   ],
   "source": [
    "print (\"Count  mean vessels per heart disease type\")\n",
    "heart_d.groupby([\"diagnosis\"])[\"vessels\"].mean()"
   ]
  },
  {
   "cell_type": "code",
   "execution_count": 22,
   "metadata": {},
   "outputs": [
    {
     "name": "stdout",
     "output_type": "stream",
     "text": [
      "Count  mean thal per heart disease type\n"
     ]
    },
    {
     "data": {
      "text/plain": [
       "diagnosis\n",
       "1    5.345455\n",
       "2    5.992617\n",
       "3    6.285714\n",
       "4    6.230769\n",
       "Name: thal, dtype: float64"
      ]
     },
     "execution_count": 22,
     "metadata": {},
     "output_type": "execute_result"
    }
   ],
   "source": [
    "print (\"Count  mean thal per heart disease type\")\n",
    "heart_d.groupby([\"diagnosis\"])[\"thal\"].mean()"
   ]
  },
  {
   "cell_type": "markdown",
   "metadata": {},
   "source": [
    "### We can consider that the person with \n",
    "\n",
    "#### age > 38\n",
    "#### man\n",
    "#### with chest pain = 4\n",
    "#### blood pressure > 112\n",
    "#### serum_cholestoral > 166\n",
    "#### fasting_blood_sugar = 0\n",
    "#### electrocardiographic = 2\n",
    "#### max_heart_rate > 114\n",
    "#### ST_depression about 2\n",
    "#### slope >=2\n",
    "#### vessels about 1.6\n",
    "#### thal more than 6\n",
    "\n",
    "### is the most likely have 4 type of the heart disease"
   ]
  },
  {
   "cell_type": "markdown",
   "metadata": {},
   "source": [
    "### We can consider that the person with \n",
    "\n",
    "#### age > 35\n",
    "#### man\n",
    "#### with chest pain = 4\n",
    "#### blood pressure > 108\n",
    "#### serum_cholestoral > 149\n",
    "#### fasting_blood_sugar = 0\n",
    "#### electrocardiographic = 2\n",
    "#### max_heart_rate > 88\n",
    "#### ST_depression = 1\n",
    "#### slope >=2\n",
    "#### vessels about 0.73\n",
    "#### thal more 5\n",
    "\n",
    "### is the most likely have 1 type of the heart disease"
   ]
  },
  {
   "cell_type": "markdown",
   "metadata": {},
   "source": [
    "### We can consider that the person with \n",
    "\n",
    "#### age > 42\n",
    "#### man\n",
    "#### with chest pain = 4\n",
    "#### blood pressure > 100\n",
    "#### serum_cholestoral > 169\n",
    "#### fasting_blood_sugar = 0\n",
    "#### electrocardiographic = 2\n",
    "#### max_heart_rate > 71\n",
    "#### ST_depression above 1\n",
    "#### slope >=2\n",
    "#### vessels about 1.2\n",
    "#### thal more almost 6\n",
    "\n",
    "### is the most likely have 2 type of the heart disease"
   ]
  },
  {
   "cell_type": "markdown",
   "metadata": {},
   "source": [
    "### We can consider that the person with \n",
    "\n",
    "#### age > 39\n",
    "#### man\n",
    "#### with chest pain = 4\n",
    "#### blood pressure > 100\n",
    "#### serum_cholestoral > 131\n",
    "#### fasting_blood_sugar = 0\n",
    "#### electrocardiographic = 2\n",
    "#### max_heart_rate > 90\n",
    "#### ST_depression almost 2\n",
    "#### slope >=2\n",
    "#### vessels about 1.45\n",
    "#### thal = 6.23 \n",
    "\n",
    "### is the most likely have 3 type of the heart disease"
   ]
  },
  {
   "cell_type": "code",
   "execution_count": 23,
   "metadata": {
    "collapsed": true
   },
   "outputs": [],
   "source": [
    "# if \"diagnosis\" == 0, member does not have disease A - we put 0\n",
    "# if \"diagnosis\" >= 1, member possess the disease A - we put 1\n",
    "heart.loc[:, \"diag_int\"] = heart.loc[:, \"diagnosis\"].apply(lambda x: 1 if x >= 1 else 0)"
   ]
  },
  {
   "cell_type": "code",
   "execution_count": 24,
   "metadata": {},
   "outputs": [
    {
     "data": {
      "text/plain": [
       "array([[ 0.19741527,  0.00313358,  0.00313358, ...,  0.01880145,\n",
       "         0.        ,  0.        ],\n",
       "       [ 0.19057465,  0.0028444 ,  0.01137759, ...,  0.00853319,\n",
       "         0.0056888 ,  0.0028444 ],\n",
       "       [ 0.22578159,  0.00336987,  0.0134795 , ...,  0.02358912,\n",
       "         0.00336987,  0.00336987],\n",
       "       ..., \n",
       "       [ 0.25334975,  0.00444473,  0.01777893, ...,  0.03111313,\n",
       "         0.0133342 ,  0.00444473],\n",
       "       [ 0.17495449,  0.        ,  0.00613875, ...,  0.00920813,\n",
       "         0.00306938,  0.00306938],\n",
       "       [ 0.13346695,  0.00351229,  0.01053686, ...,  0.01053686,\n",
       "         0.        ,  0.        ]])"
      ]
     },
     "execution_count": 24,
     "metadata": {},
     "output_type": "execute_result"
    }
   ],
   "source": [
    "preprocessing.Normalizer().fit_transform(heart)"
   ]
  },
  {
   "cell_type": "code",
   "execution_count": 25,
   "metadata": {
    "collapsed": true
   },
   "outputs": [],
   "source": [
    "heart_train, heart_test, goal_train, goal_test = cross_validation.train_test_split(heart.loc[:,'age':'thal'], \\\n",
    "                                                 heart.loc[:,'diag_int'], test_size=0.33, random_state=0)\n",
    "#print(goal_train)"
   ]
  },
  {
   "cell_type": "code",
   "execution_count": 26,
   "metadata": {},
   "outputs": [
    {
     "data": {
      "image/png": "[encoded data removed]",
      "text/plain": [
       "<matplotlib.figure.Figure at 0x13a22524fd0>"
      ]
     },
     "metadata": {},
     "output_type": "display_data"
    }
   ],
   "source": [
    "import matplotlib.pyplot as plt\n",
    "%matplotlib inline\n",
    "\n",
    "plt.xlabel(\"age\")\n",
    "plt.ylabel(\"blood pressure\")\n",
    "\n",
    "# define title\n",
    "plt.title(\"Relationship between age and blood pressure\")\n",
    "\n",
    "# plot\n",
    "plt.scatter(heart['age'], heart['blood pressure'])\n",
    "plt.show()"
   ]
  },
  {
   "cell_type": "code",
   "execution_count": 27,
   "metadata": {},
   "outputs": [
    {
     "data": {
      "image/png": "[encoded data removed]",
      "text/plain": [
       "<matplotlib.figure.Figure at 0x13a22524ef0>"
      ]
     },
     "metadata": {},
     "output_type": "display_data"
    }
   ],
   "source": [
    "plt.xlabel(\"age\")\n",
    "plt.ylabel(\"electrocardiographic\")\n",
    "\n",
    "# define title\n",
    "plt.title(\"Relationship between age and electrocardiographic\")\n",
    "\n",
    "# plot\n",
    "plt.scatter(heart['age'], heart['electrocardiographic'], color = 'red')\n",
    "plt.show()"
   ]
  },
  {
   "cell_type": "code",
   "execution_count": 28,
   "metadata": {},
   "outputs": [
    {
     "data": {
      "image/png": "[encoded data removed]",
      "text/plain": [
       "<matplotlib.figure.Figure at 0x13a246cbb38>"
      ]
     },
     "metadata": {},
     "output_type": "display_data"
    }
   ],
   "source": [
    "plt.xlabel(\"age\")\n",
    "plt.ylabel(\"max_heart_rate\")\n",
    "\n",
    "# define title\n",
    "plt.title(\"Relationship between age and max_heart_rate\")\n",
    "\n",
    "# plot\n",
    "plt.scatter(heart['age'], heart['max_heart_rate'], color = 'green')\n",
    "plt.show()"
   ]
  },
  {
   "cell_type": "code",
   "execution_count": 32,
   "metadata": {},
   "outputs": [
    {
     "name": "stdout",
     "output_type": "stream",
     "text": [
      "Decision tree Cross-Validation scores:\n",
      "[ 0.77419355  0.87096774  0.87096774  0.80645161  0.73333333  0.73333333\n",
      "  0.6         0.76666667  0.7         0.75862069]\n",
      "Mean Decision tree Cross-Validation score =  0.761453466815\n",
      "Decision tree Cross-Validation scores:\n",
      "[ 0.83870968  0.80645161  0.83870968  0.90322581  0.7         0.73333333\n",
      "  0.6         0.76666667  0.73333333  0.75862069]\n",
      "Mean Decision tree Cross-Validation score =  0.767905079718\n",
      "The best parameters for model are  entropy\n",
      "The Cross-Validation score =  0.767905079718\n"
     ]
    }
   ],
   "source": [
    "best_score_dt = 0 \n",
    "\n",
    "criterion = ['gini', 'entropy'] \n",
    "\n",
    "for c in criterion: \n",
    "\n",
    "    clf = tree.DecisionTreeClassifier(criterion=c) \n",
    "\n",
    "    clf.fit(heart_train, goal_train) \n",
    "    print(\"Decision tree Cross-Validation scores:\") \n",
    "    scores = cross_validation.cross_val_score(clf, heart.loc[:,'age':'thal'], heart.loc[:,'diag_int'], cv=10) \n",
    "    print(scores)\n",
    "    print(\"Mean Decision tree Cross-Validation score = \", np.mean(scores)) \n",
    "\n",
    "    if np.mean(scores) > best_score_dt: \n",
    "        best_score_dt = np.mean(scores) \n",
    "        best_param_dt = (c) \n",
    "\n",
    "print(\"The best parameters for model are \", best_param_dt) \n",
    "print(\"The Cross-Validation score = \", best_score_dt)"
   ]
  },
  {
   "cell_type": "code",
   "execution_count": 34,
   "metadata": {},
   "outputs": [
    {
     "name": "stdout",
     "output_type": "stream",
     "text": [
      "Decision tree Test score:\n",
      "0.72\n"
     ]
    }
   ],
   "source": [
    "lss_best_dt = tree.DecisionTreeClassifier(criterion = 'entropy') \n",
    "lss_best_dt.fit(heart_train, goal_train) \n",
    "print(\"Decision tree Test score:\") \n",
    "print(lss_best_dt.score(heart_test, goal_test))"
   ]
  },
  {
   "cell_type": "code",
   "execution_count": null,
   "metadata": {},
   "outputs": [],
   "source": [
    "loss = [\"hinge\", \"log\"]\n",
    "penalty = [\"l1\", \"l2\"]\n",
    "alpha = [0.1, 0.05, 0.01]\n",
    "n_iter = [500, 1000]\n",
    "\n",
    "best_score = 0\n",
    "best_param = (0,0,0,0)\n",
    "for l in loss:\n",
    "    for p in penalty:\n",
    "        for a in alpha:\n",
    "            for n in n_iter:\n",
    "                print(\"Parameters for model\", (l,p,a,n))\n",
    "                lss = SGDClassifier(loss=l, penalty=p, alpha=a, n_iter=n)\n",
    "                lss.fit(heart_train, goal_train)\n",
    "                print(\"Linear regression SGD Cross-Validation scores:\")\n",
    "                scores = cross_validation.cross_val_score(lss, heart.loc[:,'age':'thal'], heart.loc[:,'diag_int'], cv=10)\n",
    "                print (scores)\n",
    "                print(\"Mean Linear regression SGD Cross-Validation score = \", np.mean(scores))\n",
    "                \n",
    "                if np.mean(scores) > best_score:\n",
    "                    best_score = np.mean(scores)\n",
    "                    best_param = (l,p,a,n)\n",
    "                    \n",
    "    \n",
    "print(\"The best parameters for model are \", best_param)\n",
    "print(\"The Cross-Validation score = \", best_score)\n"
   ]
  },
  {
   "cell_type": "code",
   "execution_count": null,
   "metadata": {},
   "outputs": [],
   "source": [
    "lss_best = SGDClassifier(alpha=0.05, fit_intercept=True, loss='log', n_iter=1000,\n",
    "penalty='l1')\n",
    "lss_best.fit(heart_train, goal_train)\n",
    "print(\"Linear regression SGD Test score:\")\n",
    "print(lss_best.score(heart_test, goal_test))   "
   ]
  },
  {
   "cell_type": "code",
   "execution_count": null,
   "metadata": {},
   "outputs": [],
   "source": [
    "# predict heart disease for test dataset\n",
    "y_pred = lss_best.predict(heart_test)\n",
    "y_pred[:10]"
   ]
  },
  {
   "cell_type": "code",
   "execution_count": null,
   "metadata": {},
   "outputs": [],
   "source": [
    "test_df = pnd.DataFrame(heart_test, columns = header_row[:-1])\n",
    "test_df.loc[:, \"Disease_probability\"] = [x[0] for x in lss_best.predict_proba(heart_test)]\n",
    "test_df[:10]"
   ]
  },
  {
   "cell_type": "code",
   "execution_count": null,
   "metadata": {
    "collapsed": true
   },
   "outputs": [],
   "source": []
  }
 ],
 "metadata": {
  "kernelspec": {
   "display_name": "Python 3",
   "language": "python",
   "name": "python3"
  },
  "language_info": {
   "codemirror_mode": {
    "name": "ipython",
    "version": 3
   },
   "file_extension": ".py",
   "mimetype": "text/x-python",
   "name": "python",
   "nbconvert_exporter": "python",
   "pygments_lexer": "ipython3",
   "version": "3.6.1"
  }
 },
 "nbformat": 4,
 "nbformat_minor": 2
}
