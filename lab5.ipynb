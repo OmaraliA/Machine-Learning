{
 "cells": [
  {
   "cell_type": "code",
   "execution_count": 8,
   "metadata": {},
   "outputs": [
    {
     "name": "stdout",
     "output_type": "stream",
     "text": [
      "Колдуны\n",
      "[[ 0.   0.2  0.7  0.8]\n",
      " [ 0.   0.3  0.7  0.5]\n",
      " [ 0.5  0.5  0.5  0.5]\n",
      " [ 0.7  0.4  0.4  0.6]\n",
      " [ 0.7  0.7  0.3  0.3]]\n",
      "\n",
      "\n",
      "Волшебники\n",
      "[[ 0.   0.3  0.3  0.7  0. ]\n",
      " [ 0.3  0.1  0.7  0.3  0.8]\n",
      " [ 0.8  0.6  0.5  0.4  0.3]\n",
      " [ 0.8  0.8  0.5  0.6  0.2]]\n",
      "\n",
      "\n",
      "Cтроки(колдуны) и столбцы(волшебники)\n",
      "[[ 0.64  0.64  0.4   0.48  0.21]\n",
      " [ 0.56  0.42  0.35  0.3   0.24]\n",
      " [ 0.4   0.4   0.35  0.35  0.4 ]\n",
      " [ 0.48  0.48  0.3   0.49  0.32]\n",
      " [ 0.24  0.24  0.49  0.49  0.56]]\n"
     ]
    }
   ],
   "source": [
    "import numpy as np\n",
    "from pyDatalog import pyDatalog\n",
    "from pyDatalog import pyEngine\n",
    "\n",
    "def maxP(x, y):\n",
    "    z = []\n",
    "    for x1 in x:\n",
    "        for y1 in y.T:\n",
    "            z.append(max(np.multiply(x1, y1)))\n",
    "    return np.array(z).reshape((x.shape[0], y.shape[1]))\n",
    "\n",
    "arr1 = np.array  ([[0, 0.2, 0.7, 0.8],\n",
    "               [0, 0.3, 0.7, 0.5], \n",
    "               [0.5, 0.5, 0.5, 0.5],\n",
    "               [0.7, 0.4, 0.4, 0.6], \n",
    "               [0.7, 0.7, 0.3, 0.3]])\n",
    "\n",
    "arr2 = np.array  ([[0, 0.3, 0.3, 0.7, 0],\n",
    "               [0.3, 0.1, 0.7, 0.3, 0.8],\n",
    "               [0.8, 0.6, 0.5, 0.4, 0.3], \n",
    "               [0.8, 0.8, 0.5, 0.6, 0.2]])\n",
    "\n",
    "print(\"Колдуны\")\n",
    "print(arr1)\n",
    "print(\"\\n\")\n",
    "print(\"Волшебники\")\n",
    "print(arr2)\n",
    "print(\"\\n\")\n",
    "print(\"Cтроки(колдуны) и столбцы(волшебники)\")\n",
    "print(maxP(arr1, arr2))"
   ]
  },
  {
   "cell_type": "code",
   "execution_count": null,
   "metadata": {},
   "outputs": [],
   "source": [
    "1 Титан vs Костяной дракон\n",
    "2 Феи vs Ведьмы\n",
    "3 Рыцарей vs Вампиров\n",
    "5 Крестьяне vs Зомби\n",
    "8 Эльфов vs Скелеты\n",
    "\n",
    "Всего: 2610 "
   ]
  },
  {
   "cell_type": "code",
   "execution_count": null,
   "metadata": {
    "collapsed": true
   },
   "outputs": [],
   "source": []
  },
  {
   "cell_type": "code",
   "execution_count": null,
   "metadata": {
    "collapsed": true
   },
   "outputs": [],
   "source": []
  }
 ],
 "metadata": {
  "kernelspec": {
   "display_name": "Python 3",
   "language": "python",
   "name": "python3"
  },
  "language_info": {
   "codemirror_mode": {
    "name": "ipython",
    "version": 3
   },
   "file_extension": ".py",
   "mimetype": "text/x-python",
   "name": "python",
   "nbconvert_exporter": "python",
   "pygments_lexer": "ipython3",
   "version": "3.5.3"
  }
 },
 "nbformat": 4,
 "nbformat_minor": 2
}
